{
 "cells": [
  {
   "cell_type": "code",
   "execution_count": 1,
   "id": "9d772177",
   "metadata": {},
   "outputs": [],
   "source": [
    "import rdkit\n",
    "from rdkit import Chem\n",
    "from rdkit.Chem import Draw\n",
    "from rdkit.Chem import Descriptors\n",
    "from rdkit.Chem import rdMolDescriptors"
   ]
  },
  {
   "cell_type": "code",
   "execution_count": 2,
   "id": "4ac98d58",
   "metadata": {},
   "outputs": [
    {
     "data": {
      "text/plain": [
       "'2022.03.2'"
      ]
     },
     "execution_count": 2,
     "metadata": {},
     "output_type": "execute_result"
    }
   ],
   "source": [
    "rdkit.__version__"
   ]
  },
  {
   "cell_type": "markdown",
   "id": "745360d0",
   "metadata": {},
   "source": [
    "#### Reference:\n",
    "1. S. A. Wildman and G. M. Crippen, JCICS 39, 868-873 (1999)\n",
    "2. P. Labute, JMGM 18, 464-477 (2000)"
   ]
  },
  {
   "cell_type": "code",
   "execution_count": 3,
   "id": "7654f1e1",
   "metadata": {},
   "outputs": [],
   "source": [
    "mol = Chem.MolFromSmiles('CC(C)NCO')"
   ]
  },
  {
   "cell_type": "code",
   "execution_count": 4,
   "id": "6f172b67",
   "metadata": {},
   "outputs": [
    {
     "data": {
      "image/png": "[encoded data removed]",
      "text/plain": [
       "<PIL.PngImagePlugin.PngImageFile image mode=RGB size=300x300 at 0x15532D47C130>"
      ]
     },
     "execution_count": 4,
     "metadata": {},
     "output_type": "execute_result"
    }
   ],
   "source": [
    "for i,a in enumerate(mol.GetAtoms()):\n",
    "    a.SetAtomMapNum(i+1)\n",
    "\n",
    "Draw.MolToImage(mol)"
   ]
  },
  {
   "cell_type": "markdown",
   "id": "5e90b7fd",
   "metadata": {},
   "source": [
    "### Question 1: LogP\n",
    "\n",
    "Due to reference: [1]\n",
    "\n",
    "> If the goal is only the final log P value, unrealistic individual contributions need not be a concern. However, if one needs to estimate the lipophilicity of a part of a molecule, it is important the individual atomic contributions be more reasonable while maintaining an accurate overall calculated log P.\n",
    "\n",
    "The `logP` of the fragment of the molecule cannot be correctly predicted, thus, the atomic contributation has to be explicitly calculated, and this is a **must** option in `rdkit`."
   ]
  },
  {
   "cell_type": "code",
   "execution_count": 5,
   "id": "81fdef26",
   "metadata": {},
   "outputs": [
    {
     "name": "stdout",
     "output_type": "stream",
     "text": [
      "Before: -0.06579999999999997\n",
      "After : -0.06579999999999997\n"
     ]
    }
   ],
   "source": [
    "# Examples:\n",
    "print('Before: ',end='')\n",
    "print(Descriptors.MolLogP(mol))\n",
    "\n",
    "print('After : ',end='')\n",
    "print(Descriptors.MolLogP(Chem.AddHs(mol)))"
   ]
  },
  {
   "cell_type": "markdown",
   "id": "135cd669",
   "metadata": {},
   "source": [
    "With this in mind, the overall atomic contributions can be calculated by:"
   ]
  },
  {
   "cell_type": "code",
   "execution_count": 6,
   "id": "2c337ac6",
   "metadata": {},
   "outputs": [],
   "source": [
    "contris = rdMolDescriptors._CalcCrippenContribs(Chem.AddHs(mol))"
   ]
  },
  {
   "cell_type": "code",
   "execution_count": 7,
   "id": "63f13d16",
   "metadata": {},
   "outputs": [
    {
     "name": "stdout",
     "output_type": "stream",
     "text": [
      "[(0.1441, 2.503), (-0.2051, 2.731), (0.1441, 2.503), (-0.7096, 2.173), (-0.2035, 2.753), (-0.2893, 0.8238), (0.123, 1.057), (0.123, 1.057), (0.123, 1.057), (0.123, 1.057), (0.123, 1.057), (0.123, 1.057), (0.123, 1.057), (0.2142, 0.9627), (0.123, 1.057), (0.123, 1.057), (-0.2677, 1.395)]\n"
     ]
    }
   ],
   "source": [
    "print(contris)"
   ]
  },
  {
   "cell_type": "markdown",
   "id": "ec5f6696",
   "metadata": {},
   "source": [
    "Returned is a 2-tuple list, the first term is atomic contribution for `LogP`, the other one is for `MR`"
   ]
  },
  {
   "cell_type": "code",
   "execution_count": 8,
   "id": "e3740b14",
   "metadata": {},
   "outputs": [
    {
     "name": "stdout",
     "output_type": "stream",
     "text": [
      "Sum of LogP: -0.06579999999999997\n",
      "Sum of MR  : 25.357499999999995\n"
     ]
    }
   ],
   "source": [
    "print('Sum of LogP: ',end='')\n",
    "print(sum([i[0] for i in contris]))\n",
    "\n",
    "print('Sum of MR  : ',end='')\n",
    "print(sum([i[1] for i in contris]))"
   ]
  },
  {
   "cell_type": "code",
   "execution_count": 9,
   "id": "ed4e1960",
   "metadata": {},
   "outputs": [
    {
     "name": "stdout",
     "output_type": "stream",
     "text": [
      "(-0.06579999999999997, 25.357499999999995)\n"
     ]
    }
   ],
   "source": [
    "# This can be further checked by:\n",
    "\n",
    "print(rdMolDescriptors.CalcCrippenDescriptors(mol))"
   ]
  },
  {
   "cell_type": "markdown",
   "id": "7043e873",
   "metadata": {},
   "source": [
    "### Question 2: SlogP_VSA(n)\n",
    "\n",
    "Its definition: https://www.rdkit.org/docs/source/rdkit.Chem.MolSurf.html#rdkit.Chem.MolSurf.SlogP_VSA1"
   ]
  },
  {
   "cell_type": "code",
   "execution_count": 10,
   "id": "9213af72",
   "metadata": {
    "scrolled": true
   },
   "outputs": [
    {
     "name": "stdout",
     "output_type": "stream",
     "text": [
      "SlogP_VSA_1:  5.309813353288376\n",
      "SlogP_VSA_2:  19.240820342592347\n",
      "SlogP_VSA_3:  0.0\n",
      "SlogP_VSA_4:  0.0\n",
      "SlogP_VSA_5:  26.040611240123337\n",
      "SlogP_VSA_6:  0.0\n",
      "SlogP_VSA_7:  1.4118420783282006\n",
      "SlogP_VSA_8:  0.0\n",
      "SlogP_VSA_9:  0.0\n",
      "SlogP_VSA_10:  0.0\n",
      "SlogP_VSA_11:  0.0\n",
      "SlogP_VSA_12:  0.0\n"
     ]
    }
   ],
   "source": [
    "lvsa = [getattr(Descriptors,f'SlogP_VSA{i+1}') for i in range(12)]\n",
    "mol_hs = Chem.AddHs(mol)      # be aware in here, hydrogens has to be added, otherwise, results will be different\n",
    "for i,f in enumerate(lvsa):\n",
    "    print(f'SlogP_VSA_{i+1}: ',f(mol_hs))"
   ]
  },
  {
   "cell_type": "code",
   "execution_count": 11,
   "id": "691fc185",
   "metadata": {},
   "outputs": [
    {
     "name": "stdout",
     "output_type": "stream",
     "text": [
      "[5.309813353288376, 19.240820342592347, 0.0, 0.0, 26.040611240123337, 0.0, 1.4118420783282006, 0.0, 0.0, 0.0, 0.0, 0.0]\n"
     ]
    }
   ],
   "source": [
    "# Or, this can be done in a more concise way:\n",
    "vs = rdMolDescriptors.SlogP_VSA_(mol_hs)\n",
    "print(vs)"
   ]
  },
  {
   "cell_type": "code",
   "execution_count": 12,
   "id": "3f6d5930",
   "metadata": {},
   "outputs": [
    {
     "name": "stdout",
     "output_type": "stream",
     "text": [
      "[6.851892117295679, 6.017892468349645, 6.851892117295679, 5.309813353288376, 6.682920025902854, 5.1088081911072125, 1.3707585561702202, 1.3707585561702202, 1.3707585561702202, 1.3707585561702202, 1.3707585561702202, 1.3707585561702202, 1.3707585561702202, 1.4118420783282006, 1.3707585561702202, 1.3707585561702202, 1.4311996572326342]\n"
     ]
    }
   ],
   "source": [
    "# atomic contribution\n",
    "labutes = list(rdMolDescriptors._CalcLabuteASAContribs(mol_hs)[0])  # values\n",
    "print(labutes)"
   ]
  },
  {
   "cell_type": "markdown",
   "id": "7f8f3e14",
   "metadata": {},
   "source": [
    "Time to reproduce:\n",
    "\n",
    "Check the source codes:\n",
    "[cbins](https://github.com/rdkit/rdkit-orig/blob/master/Code/GraphMol/Descriptors/MolSurf.cpp#L256) :https://github.com/rdkit/rdkit-orig/blob/master/Code/GraphMol/Descriptors/MolSurf.cpp#L256\n",
    "\n",
    "Or from the paper [2], we can get a more comprehensive partation list:"
   ]
  },
  {
   "cell_type": "code",
   "execution_count": 13,
   "id": "61b1828f",
   "metadata": {},
   "outputs": [],
   "source": [
    "cbins = [-0.4,-0.2,0.0,0.1,0.15,0.2,0.25,0.3,0.4,0.5,0.6]\n",
    "\n",
    "# There are `11` values, in total `12` intervals with the consideration of\n",
    "# boundaries (negative and positive infinity).\n",
    "\n",
    "# for explanation used only\n",
    "cbins.insert(0, -100000000.0)\n",
    "cbins.append(100000000.0)"
   ]
  },
  {
   "cell_type": "code",
   "execution_count": 14,
   "id": "4ffdb819",
   "metadata": {},
   "outputs": [
    {
     "name": "stdout",
     "output_type": "stream",
     "text": [
      "SlogP_VSA_1:  5.309813353288376\n",
      "SlogP_VSA_2:  19.240820342592347\n",
      "SlogP_VSA_3:  0.0\n",
      "SlogP_VSA_4:  0.0\n",
      "SlogP_VSA_5:  26.040611240123337\n",
      "SlogP_VSA_6:  0.0\n",
      "SlogP_VSA_7:  1.4118420783282006\n",
      "SlogP_VSA_8:  0.0\n",
      "SlogP_VSA_9:  0.0\n",
      "SlogP_VSA_10:  0.0\n",
      "SlogP_VSA_11:  0.0\n",
      "SlogP_VSA_12:  0.0\n"
     ]
    }
   ],
   "source": [
    "parts = [0.0 for i in range(12)]\n",
    "for t,v in enumerate(contris):\n",
    "    for i in range(12):\n",
    "        if v[0] >= cbins[i] and v[0] < cbins[i+1]:\n",
    "            break\n",
    "    parts[i] += labutes[t]\n",
    "\n",
    "for i,t in enumerate(parts):\n",
    "    print(f'SlogP_VSA_{i+1}: ',t)"
   ]
  },
  {
   "cell_type": "markdown",
   "id": "488f106e",
   "metadata": {},
   "source": [
    "Calculation of **MR** can be done in the similar way, left for practice.\n",
    "\n",
    "Bins used:\n",
    "\n",
    "```\n",
    "MR_bins = [1.29, 1.82, 2.24, 2.45, 2.75, 3.05, 3.63, 3.8, 4.0]\n",
    "```"
   ]
  },
  {
   "cell_type": "markdown",
   "id": "fecd1af5",
   "metadata": {},
   "source": [
    "### Conclusion\n",
    "\n",
    "For molecular descriptor calculated by:\n",
    "\n",
    "* `rdkit.Chem.Descriptors.MolLogP` calculates result from reference [1]\n",
    "* `rdkit.Chem.rdMolDescriptors.SlogP_VSA_` or `rdkit.Chem.Descriptors.SlogP_VSA{n}` is the **further** partion from reference [2]"
   ]
  }
 ],
 "metadata": {
  "kernelspec": {
   "display_name": "Python 3 (ipykernel)",
   "language": "python",
   "name": "python3"
  },
  "language_info": {
   "codemirror_mode": {
    "name": "ipython",
    "version": 3
   },
   "file_extension": ".py",
   "mimetype": "text/x-python",
   "name": "python",
   "nbconvert_exporter": "python",
   "pygments_lexer": "ipython3",
   "version": "3.8.13"
  }
 },
 "nbformat": 4,
 "nbformat_minor": 5
}
